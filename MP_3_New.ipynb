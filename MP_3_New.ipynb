{
 "cells": [
  {
   "cell_type": "markdown",
   "id": "759fd5b3-2b7d-492a-b02e-72ddf73c576b",
   "metadata": {},
   "source": [
    "# MiniProject Version 2"
   ]
  },
  {
   "cell_type": "markdown",
   "id": "aaeedf36-680f-497a-9158-f58c8096ea55",
   "metadata": {},
   "source": [
    "## Steps:\n",
    "    1) Join all tables\n",
    "    2) Strip all text data\n",
    "    3) Fill empty data\n",
    "    4) Fill NaN\n",
    "    5) remove customer names, address city?\n",
    "    6) Engineer Categoty data into 0s and 1s\n",
    "    7) Rescale all data from 0 to 1\n",
    "    "
   ]
  },
  {
   "cell_type": "code",
   "execution_count": 1,
   "id": "26357ce4-d35a-4d1d-8c9f-181ba745f8ea",
   "metadata": {},
   "outputs": [],
   "source": [
    "import datetime\n",
    "import copy\n",
    "import pandas as pd\n",
    "import numpy as np\n",
    "import matplotlib.pyplot as plt"
   ]
  },
  {
   "cell_type": "code",
   "execution_count": 2,
   "id": "aa943e12-60f4-4f07-8040-eeec68fa8308",
   "metadata": {},
   "outputs": [],
   "source": [
    "def removeWhitespace(df):\n",
    "    for column in df:\n",
    "        if type(df[column][0]) is str: # check type data is string\n",
    "            try:\n",
    "                df[column] = df[column].str.strip()\n",
    "                print(df[column].name, 'stripped')\n",
    "            except:\n",
    "                print('A problem occurred on column', df[column].name)"
   ]
  },
  {
   "cell_type": "code",
   "execution_count": 53,
   "id": "403bcba2-b7eb-4811-bf2d-3ac3d4ced71e",
   "metadata": {},
   "outputs": [],
   "source": [
    "def rmWhiteAll(df_name_list):\n",
    "    for df_name in df_name_list:\n",
    "        try:\n",
    "            print(f'***** {df_name} whitespace cleaned *****')\n",
    "            df = globals()[f'{df_name}']\n",
    "            removeWhitespace(df)\n",
    "            print('\\n')\n",
    "        except:\n",
    "            print(f'*** A problem occurred with {df_name}')"
   ]
  },
  {
   "cell_type": "code",
   "execution_count": null,
   "id": "c00c1f4d-c648-42e0-8861-f4f098491de5",
   "metadata": {},
   "outputs": [],
   "source": [
    "def flagEmptyText"
   ]
  },
  {
   "cell_type": "code",
   "execution_count": 3,
   "id": "ea2f5dda-bed5-4e60-a176-5b9e2cc7400a",
   "metadata": {},
   "outputs": [],
   "source": [
    "filePaths = ['data/twm_accounts.csv', 'data/twm_checking_acct.csv', 'data/twm_checking_tran.csv',\n",
    "             'data/twm_credit_acct.csv', 'data/twm_credit_tran.csv', 'data/twm_customer.csv',\n",
    "             'data/twm_savings_acct.csv', 'data/twm_savings_tran.csv', 'data/twm_transactions.csv']\n",
    "\n",
    "df_names = ['df_acct', 'df_chk_acct', 'df_chk_tran',\n",
    "            'df_cr_acct', 'df_cr_tran', 'df_cust',\n",
    "            'df_sav_acct', 'df_sav_tran','df_all_tran']"
   ]
  },
  {
   "cell_type": "code",
   "execution_count": 49,
   "id": "7ce09bfc-70c9-43d6-82fe-a9bb3f3786f2",
   "metadata": {},
   "outputs": [],
   "source": [
    "def load_data(filePaths, df_names):\n",
    "    if not len(filePaths) == len(df_names):\n",
    "        print('filePaths and df_name must be the same length')\n",
    "        return None\n",
    "    for filePath, df_name in zip(filePaths, df_names):\n",
    "        globals()[f'{df_name}'] = pd.read_csv(filePath, sep=';') # Dynamic Variable Name usage\n",
    "        print('data from', filePath, 'loaded into',  df_name)"
   ]
  },
  {
   "cell_type": "code",
   "execution_count": 54,
   "id": "c1e41311-5fc4-4b6b-9591-9dae86140c89",
   "metadata": {},
   "outputs": [
    {
     "name": "stdout",
     "output_type": "stream",
     "text": [
      "data from data/twm_accounts.csv loaded into df_acct\n",
      "data from data/twm_checking_acct.csv loaded into df_chk_acct\n",
      "data from data/twm_checking_tran.csv loaded into df_chk_tran\n",
      "data from data/twm_credit_acct.csv loaded into df_cr_acct\n",
      "data from data/twm_credit_tran.csv loaded into df_cr_tran\n",
      "data from data/twm_customer.csv loaded into df_cust\n",
      "data from data/twm_savings_acct.csv loaded into df_sav_acct\n",
      "data from data/twm_savings_tran.csv loaded into df_sav_tran\n",
      "data from data/twm_transactions.csv loaded into df_all_tran\n"
     ]
    }
   ],
   "source": [
    "load_data(filePaths, df_names)"
   ]
  },
  {
   "cell_type": "code",
   "execution_count": 7,
   "id": "17c32958-4a92-4a8f-a3ee-5a9554afe2c8",
   "metadata": {},
   "outputs": [],
   "source": [
    "def getDfSize(aList):\n",
    "    for item in aList:\n",
    "        try:\n",
    "            rows = max(globals()[f'{item}'].count()) # Dynamic Variable Name usage\n",
    "            columns = len(globals()[f'{item}'].columns)\n",
    "            print(f'{item} has {columns} columns and {rows} rows' )\n",
    "        except:\n",
    "            print(f'Could not count {item}')"
   ]
  },
  {
   "cell_type": "code",
   "execution_count": 51,
   "id": "be9b8e90-37bd-43b5-a195-e31534851c2b",
   "metadata": {},
   "outputs": [
    {
     "name": "stdout",
     "output_type": "stream",
     "text": [
      "df_acct has 8 columns and 1409 rows\n",
      "df_chk_acct has 9 columns and 520 rows\n",
      "df_chk_tran has 10 columns and 46204 rows\n",
      "df_cr_acct has 9 columns and 468 rows\n",
      "df_cr_tran has 10 columns and 20167 rows\n",
      "df_cust has 15 columns and 747 rows\n",
      "df_sav_acct has 9 columns and 421 rows\n",
      "df_sav_tran has 10 columns and 11189 rows\n",
      "df_all_tran has 10 columns and 77580 rows\n"
     ]
    }
   ],
   "source": [
    "getDfSize(df_names)"
   ]
  },
  {
   "cell_type": "code",
   "execution_count": null,
   "id": "107b7bb2-9b31-4fc4-b3ca-fcfd977a0ff7",
   "metadata": {},
   "outputs": [],
   "source": [
    "def findColumn(column_name, df_names): # df_names must be a list of the names of the dfs NOT the actual dfs\n",
    "    for df_name in df_names:\n",
    "        if column_name in globals()[f'{df_name}'].columns:\n",
    "            print(f'{df_name} contains {column_name}')\n",
    "            continue\n",
    "        print(f'{df_name} does not contain {column_name}')"
   ]
  },
  {
   "cell_type": "code",
   "execution_count": 9,
   "id": "a6cb9775-e9dc-46c1-88b9-6bebea271555",
   "metadata": {},
   "outputs": [
    {
     "data": {
      "text/plain": [
       "tran_id            155\n",
       "acct_nbr          1398\n",
       "tran_amt         33465\n",
       "principal_amt    32715\n",
       "interest_amt      1907\n",
       "new_balance      55730\n",
       "tran_date          365\n",
       "tran_time        33276\n",
       "channel             11\n",
       "tran_code           13\n",
       "dtype: int64"
      ]
     },
     "execution_count": 9,
     "metadata": {},
     "output_type": "execute_result"
    }
   ],
   "source": [
    "df_all_tran.nunique()"
   ]
  },
  {
   "cell_type": "code",
   "execution_count": 55,
   "id": "d5aca47a-0dac-453a-9dcd-427c848b7855",
   "metadata": {},
   "outputs": [
    {
     "name": "stdout",
     "output_type": "stream",
     "text": [
      "***** df_acct whitespace cleaned *****\n",
      "acct_type stripped\n",
      "account_active stripped\n",
      "acct_start_date stripped\n",
      "\n",
      "\n",
      "***** df_chk_acct whitespace cleaned *****\n",
      "account_active stripped\n",
      "acct_start_date stripped\n",
      "\n",
      "\n",
      "***** df_chk_tran whitespace cleaned *****\n",
      "tran_date stripped\n",
      "tran_time stripped\n",
      "channel stripped\n",
      "tran_code stripped\n",
      "\n",
      "\n",
      "***** df_cr_acct whitespace cleaned *****\n",
      "account_active stripped\n",
      "acct_start_date stripped\n",
      "\n",
      "\n",
      "***** df_cr_tran whitespace cleaned *****\n",
      "tran_date stripped\n",
      "tran_time stripped\n",
      "channel stripped\n",
      "tran_code stripped\n",
      "\n",
      "\n",
      "***** df_cust whitespace cleaned *****\n",
      "gender stripped\n",
      "name_prefix stripped\n",
      "first_name stripped\n",
      "last_name stripped\n",
      "street_name stripped\n",
      "city_name stripped\n",
      "state_code stripped\n",
      "\n",
      "\n",
      "***** df_sav_acct whitespace cleaned *****\n",
      "acct_type stripped\n",
      "account_active stripped\n",
      "acct_start_date stripped\n",
      "\n",
      "\n",
      "***** df_sav_tran whitespace cleaned *****\n",
      "tran_date stripped\n",
      "tran_time stripped\n",
      "channel stripped\n",
      "tran_code stripped\n",
      "\n",
      "\n",
      "***** df_all_tran whitespace cleaned *****\n",
      "tran_date stripped\n",
      "channel stripped\n",
      "tran_code stripped\n",
      "\n",
      "\n"
     ]
    }
   ],
   "source": [
    "rmWhiteAll(df_names)"
   ]
  },
  {
   "cell_type": "code",
   "execution_count": 11,
   "id": "1b673472-9686-4f06-8df8-ad60f37a9b98",
   "metadata": {},
   "outputs": [],
   "source": []
  },
  {
   "cell_type": "code",
   "execution_count": null,
   "id": "8beb68a5-2462-43c2-b847-0b41584b5128",
   "metadata": {},
   "outputs": [],
   "source": []
  },
  {
   "cell_type": "code",
   "execution_count": 12,
   "id": "50d98d69-bd1e-4a2d-a2f0-64d2ac3b7315",
   "metadata": {
    "tags": []
   },
   "outputs": [
    {
     "name": "stdout",
     "output_type": "stream",
     "text": [
      "df_acct contains cust_id\n",
      "df_chk_acct contains cust_id\n",
      "df_chk_tran contains cust_id\n",
      "df_cr_acct contains cust_id\n",
      "df_cr_tran contains cust_id\n",
      "df_cust contains cust_id\n",
      "df_sav_acct contains cust_id\n",
      "df_sav_tran contains cust_id\n",
      "df_all_tran does not contain cust_id\n"
     ]
    }
   ],
   "source": [
    "findColumn('cust_id', df_names)"
   ]
  },
  {
   "cell_type": "code",
   "execution_count": 13,
   "id": "07fb39ea-b32a-4fb2-b2da-e273a68c0471",
   "metadata": {},
   "outputs": [
    {
     "name": "stdout",
     "output_type": "stream",
     "text": [
      "dsfsdfHello the variable number w!\n"
     ]
    }
   ],
   "source": [
    "# Create a Dynamic Variable Name in Python\n",
    "for x in ['w', 'b']:\n",
    "    globals()[f'{x}'] = f\"dsfsdfHello the variable number {x}!\"\n",
    "print(w)"
   ]
  },
  {
   "cell_type": "code",
   "execution_count": null,
   "id": "b729d998-2a5b-4c0d-8d8d-7ce3a32cd791",
   "metadata": {},
   "outputs": [],
   "source": []
  },
  {
   "cell_type": "code",
   "execution_count": null,
   "id": "c677f03b-712f-4464-8053-781f14e076a1",
   "metadata": {},
   "outputs": [],
   "source": []
  },
  {
   "cell_type": "code",
   "execution_count": null,
   "id": "2c577ce8-1149-4029-82f9-67c598bc6c35",
   "metadata": {},
   "outputs": [],
   "source": []
  },
  {
   "cell_type": "code",
   "execution_count": 14,
   "id": "a4b6d700-c404-4405-b5b5-e9e255383597",
   "metadata": {},
   "outputs": [],
   "source": [
    "# x = df_accts.set_index('cust_id').join(df_cust.set_index('cust_id')) # wrong way to join"
   ]
  },
  {
   "cell_type": "code",
   "execution_count": null,
   "id": "626a1406-009b-47e5-a2d3-32d99cca509d",
   "metadata": {},
   "outputs": [],
   "source": [
    "# x = df_cust.set_index('cust_id').join(df_accts.set_index('cust_id')) # better way to join"
   ]
  },
  {
   "cell_type": "code",
   "execution_count": null,
   "id": "d629bccb-2a39-4c4b-9325-9fbf8bf1109e",
   "metadata": {},
   "outputs": [],
   "source": [
    "#df_join_names = df_names\n",
    "#df_join_names.remove('df_cust')"
   ]
  },
  {
   "cell_type": "code",
   "execution_count": 15,
   "id": "e783281e-41e5-4490-8edc-044ba1d92a79",
   "metadata": {},
   "outputs": [
    {
     "data": {
      "text/plain": [
       "['df_acct',\n",
       " 'df_chk_acct',\n",
       " 'df_chk_tran',\n",
       " 'df_cr_acct',\n",
       " 'df_cr_tran',\n",
       " 'df_cust',\n",
       " 'df_sav_acct',\n",
       " 'df_sav_tran',\n",
       " 'df_all_tran']"
      ]
     },
     "execution_count": 15,
     "metadata": {},
     "output_type": "execute_result"
    }
   ],
   "source": [
    "df_names"
   ]
  },
  {
   "cell_type": "code",
   "execution_count": 16,
   "id": "f6dd231b-81d9-4940-943d-5eeafd39fc01",
   "metadata": {},
   "outputs": [],
   "source": [
    "dfs =[df_acct, df_chk_acct, df_chk_tran,\n",
    "      df_cr_acct, df_cr_tran, df_cust,\n",
    "      df_sav_acct, df_sav_tran, df_all_tran]"
   ]
  },
  {
   "cell_type": "code",
   "execution_count": 56,
   "id": "7131a0be-6bb9-4e90-a475-5b607b1c7872",
   "metadata": {
    "tags": []
   },
   "outputs": [],
   "source": [
    "x = df_acct.merge(df_cust, how='outer', on='cust_id')"
   ]
  },
  {
   "cell_type": "code",
   "execution_count": 57,
   "id": "3e24d968-5068-4cee-95b8-1db20df17306",
   "metadata": {},
   "outputs": [
    {
     "data": {
      "text/html": [
       "<div>\n",
       "<style scoped>\n",
       "    .dataframe tbody tr th:only-of-type {\n",
       "        vertical-align: middle;\n",
       "    }\n",
       "\n",
       "    .dataframe tbody tr th {\n",
       "        vertical-align: top;\n",
       "    }\n",
       "\n",
       "    .dataframe thead th {\n",
       "        text-align: right;\n",
       "    }\n",
       "</style>\n",
       "<table border=\"1\" class=\"dataframe\">\n",
       "  <thead>\n",
       "    <tr style=\"text-align: right;\">\n",
       "      <th></th>\n",
       "      <th>acct_nbr</th>\n",
       "      <th>cust_id</th>\n",
       "      <th>acct_type</th>\n",
       "      <th>account_active</th>\n",
       "      <th>acct_start_date</th>\n",
       "      <th>acct_end_date</th>\n",
       "      <th>starting_balance</th>\n",
       "      <th>ending_balance</th>\n",
       "      <th>income</th>\n",
       "      <th>age</th>\n",
       "      <th>...</th>\n",
       "      <th>gender</th>\n",
       "      <th>marital_status</th>\n",
       "      <th>name_prefix</th>\n",
       "      <th>first_name</th>\n",
       "      <th>last_name</th>\n",
       "      <th>street_nbr</th>\n",
       "      <th>street_name</th>\n",
       "      <th>postal_code</th>\n",
       "      <th>city_name</th>\n",
       "      <th>state_code</th>\n",
       "    </tr>\n",
       "  </thead>\n",
       "  <tbody>\n",
       "    <tr>\n",
       "      <th>0</th>\n",
       "      <td>1.362806e+07</td>\n",
       "      <td>1362806</td>\n",
       "      <td>SV</td>\n",
       "      <td>Y</td>\n",
       "      <td>10.12.1995</td>\n",
       "      <td>NaN</td>\n",
       "      <td>1430.22</td>\n",
       "      <td>284.58</td>\n",
       "      <td>39382</td>\n",
       "      <td>24</td>\n",
       "      <td>...</td>\n",
       "      <td>M</td>\n",
       "      <td>3</td>\n",
       "      <td>Mr.</td>\n",
       "      <td>Randy</td>\n",
       "      <td>McCarthy</td>\n",
       "      <td>15648</td>\n",
       "      <td>Juniper</td>\n",
       "      <td>60605</td>\n",
       "      <td>Chicago</td>\n",
       "      <td>IL</td>\n",
       "    </tr>\n",
       "    <tr>\n",
       "      <th>1</th>\n",
       "      <td>1.362806e+07</td>\n",
       "      <td>1362806</td>\n",
       "      <td>CK</td>\n",
       "      <td>Y</td>\n",
       "      <td>22.11.1993</td>\n",
       "      <td>NaN</td>\n",
       "      <td>218.47</td>\n",
       "      <td>2561.24</td>\n",
       "      <td>39382</td>\n",
       "      <td>24</td>\n",
       "      <td>...</td>\n",
       "      <td>M</td>\n",
       "      <td>3</td>\n",
       "      <td>Mr.</td>\n",
       "      <td>Randy</td>\n",
       "      <td>McCarthy</td>\n",
       "      <td>15648</td>\n",
       "      <td>Juniper</td>\n",
       "      <td>60605</td>\n",
       "      <td>Chicago</td>\n",
       "      <td>IL</td>\n",
       "    </tr>\n",
       "    <tr>\n",
       "      <th>2</th>\n",
       "      <td>4.561143e+15</td>\n",
       "      <td>1362806</td>\n",
       "      <td>CC</td>\n",
       "      <td>Y</td>\n",
       "      <td>27.11.1994</td>\n",
       "      <td>NaN</td>\n",
       "      <td>214.46</td>\n",
       "      <td>1541.64</td>\n",
       "      <td>39382</td>\n",
       "      <td>24</td>\n",
       "      <td>...</td>\n",
       "      <td>M</td>\n",
       "      <td>3</td>\n",
       "      <td>Mr.</td>\n",
       "      <td>Randy</td>\n",
       "      <td>McCarthy</td>\n",
       "      <td>15648</td>\n",
       "      <td>Juniper</td>\n",
       "      <td>60605</td>\n",
       "      <td>Chicago</td>\n",
       "      <td>IL</td>\n",
       "    </tr>\n",
       "    <tr>\n",
       "      <th>3</th>\n",
       "      <td>4.561143e+15</td>\n",
       "      <td>1362709</td>\n",
       "      <td>CC</td>\n",
       "      <td>Y</td>\n",
       "      <td>15.3.1993</td>\n",
       "      <td>NaN</td>\n",
       "      <td>266.34</td>\n",
       "      <td>496.15</td>\n",
       "      <td>5981</td>\n",
       "      <td>74</td>\n",
       "      <td>...</td>\n",
       "      <td>F</td>\n",
       "      <td>2</td>\n",
       "      <td>Dr.</td>\n",
       "      <td>Colleen</td>\n",
       "      <td>Malcom</td>\n",
       "      <td>4922</td>\n",
       "      <td>Alamo</td>\n",
       "      <td>90190</td>\n",
       "      <td>Los Angeles</td>\n",
       "      <td>CA</td>\n",
       "    </tr>\n",
       "    <tr>\n",
       "      <th>4</th>\n",
       "      <td>1.362709e+07</td>\n",
       "      <td>1362709</td>\n",
       "      <td>SV</td>\n",
       "      <td>Y</td>\n",
       "      <td>8.9.1995</td>\n",
       "      <td>NaN</td>\n",
       "      <td>134.28</td>\n",
       "      <td>917.33</td>\n",
       "      <td>5981</td>\n",
       "      <td>74</td>\n",
       "      <td>...</td>\n",
       "      <td>F</td>\n",
       "      <td>2</td>\n",
       "      <td>Dr.</td>\n",
       "      <td>Colleen</td>\n",
       "      <td>Malcom</td>\n",
       "      <td>4922</td>\n",
       "      <td>Alamo</td>\n",
       "      <td>90190</td>\n",
       "      <td>Los Angeles</td>\n",
       "      <td>CA</td>\n",
       "    </tr>\n",
       "  </tbody>\n",
       "</table>\n",
       "<p>5 rows × 22 columns</p>\n",
       "</div>"
      ],
      "text/plain": [
       "       acct_nbr  cust_id acct_type account_active acct_start_date  \\\n",
       "0  1.362806e+07  1362806        SV              Y      10.12.1995   \n",
       "1  1.362806e+07  1362806        CK              Y      22.11.1993   \n",
       "2  4.561143e+15  1362806        CC              Y      27.11.1994   \n",
       "3  4.561143e+15  1362709        CC              Y       15.3.1993   \n",
       "4  1.362709e+07  1362709        SV              Y        8.9.1995   \n",
       "\n",
       "  acct_end_date  starting_balance  ending_balance  income  age  ...  gender  \\\n",
       "0           NaN           1430.22          284.58   39382   24  ...       M   \n",
       "1           NaN            218.47         2561.24   39382   24  ...       M   \n",
       "2           NaN            214.46         1541.64   39382   24  ...       M   \n",
       "3           NaN            266.34          496.15    5981   74  ...       F   \n",
       "4           NaN            134.28          917.33    5981   74  ...       F   \n",
       "\n",
       "   marital_status name_prefix  first_name last_name street_nbr street_name  \\\n",
       "0               3         Mr.       Randy  McCarthy      15648     Juniper   \n",
       "1               3         Mr.       Randy  McCarthy      15648     Juniper   \n",
       "2               3         Mr.       Randy  McCarthy      15648     Juniper   \n",
       "3               2         Dr.     Colleen    Malcom       4922       Alamo   \n",
       "4               2         Dr.     Colleen    Malcom       4922       Alamo   \n",
       "\n",
       "   postal_code    city_name  state_code  \n",
       "0        60605      Chicago          IL  \n",
       "1        60605      Chicago          IL  \n",
       "2        60605      Chicago          IL  \n",
       "3        90190  Los Angeles          CA  \n",
       "4        90190  Los Angeles          CA  \n",
       "\n",
       "[5 rows x 22 columns]"
      ]
     },
     "execution_count": 57,
     "metadata": {},
     "output_type": "execute_result"
    }
   ],
   "source": [
    "x.head()"
   ]
  },
  {
   "cell_type": "code",
   "execution_count": 26,
   "id": "5e6841b9-fd59-4787-a7a4-5c8338fa3e1f",
   "metadata": {
    "tags": []
   },
   "outputs": [],
   "source": [
    "#y = df_cust.merge(dfs, how='outer', on='cust_id')"
   ]
  },
  {
   "cell_type": "code",
   "execution_count": 58,
   "id": "10f342bc-0fdd-4abc-a7b4-6d93e68d56ab",
   "metadata": {},
   "outputs": [],
   "source": [
    "x = x.merge(df_chk_acct, how='outer', on='cust_id')\n",
    "#x = x.merge(df_chk_tran, how='outer', on='cust_id')\n",
    "x = x.merge(df_cr_acct, how='outer', on='cust_id')\n",
    "#x = x.merge(df_cr_tran, how='outer', on='cust_id')\n",
    "#x = x.merge(df_sav_acct, how='outer', on='cust_id')\n",
    "#x = x.merge(df_sav_tran, how='outer', on='cust_id')\n",
    "#x = x.merge(df_all_tran, how='outer', on='cust_id')"
   ]
  },
  {
   "cell_type": "code",
   "execution_count": 37,
   "id": "3f50c062-3379-46f5-9113-b2e4819c8620",
   "metadata": {},
   "outputs": [
    {
     "data": {
      "text/plain": [
       "38"
      ]
     },
     "execution_count": 37,
     "metadata": {},
     "output_type": "execute_result"
    }
   ],
   "source": [
    "len(x.columns)"
   ]
  },
  {
   "cell_type": "code",
   "execution_count": 45,
   "id": "64926844-a764-4201-8f12-035dd27f323d",
   "metadata": {
    "tags": []
   },
   "outputs": [],
   "source": [
    "x = 0"
   ]
  },
  {
   "cell_type": "code",
   "execution_count": 35,
   "id": "ded4d9f6-7c8f-4d27-8014-1cbe0b60fef2",
   "metadata": {},
   "outputs": [
    {
     "name": "stdout",
     "output_type": "stream",
     "text": [
      "Could not count acct_nbr_x\n",
      "Could not count cust_id\n",
      "Could not count acct_type\n",
      "Could not count account_active_x\n",
      "Could not count acct_start_date_x\n",
      "Could not count acct_end_date_x\n",
      "Could not count starting_balance_x\n",
      "Could not count ending_balance_x\n",
      "Could not count income\n",
      "Could not count age\n",
      "Could not count years_with_bank\n",
      "Could not count nbr_children\n",
      "Could not count gender\n",
      "Could not count marital_status\n",
      "Could not count name_prefix\n",
      "Could not count first_name\n",
      "Could not count last_name\n",
      "Could not count street_nbr\n",
      "Could not count street_name\n",
      "Could not count postal_code\n",
      "Could not count city_name\n",
      "Could not count state_code\n",
      "Could not count acct_nbr_y\n",
      "Could not count minimum_balance\n",
      "Could not count per_check_fee\n",
      "Could not count account_active_y\n",
      "Could not count acct_start_date_y\n",
      "Could not count acct_end_date_y\n",
      "Could not count starting_balance_y\n",
      "Could not count ending_balance_y\n",
      "Could not count acct_nbr\n",
      "Could not count credit_limit\n",
      "Could not count credit_rating\n",
      "Could not count account_active\n",
      "Could not count acct_start_date\n",
      "Could not count acct_end_date\n",
      "Could not count starting_balance\n",
      "Could not count ending_balance\n"
     ]
    }
   ],
   "source": [
    "getDfSize(x)"
   ]
  },
  {
   "cell_type": "code",
   "execution_count": null,
   "id": "28a56ffe-eff8-4c66-84d0-ad558b0d71a5",
   "metadata": {
    "tags": []
   },
   "outputs": [],
   "source": [
    "\n",
    "# *************** HANGS\n",
    "\n",
    "#for df_name in df_join_names:\n",
    "#    df_accts = df_accts.merge(globals()[f'{df_name}'], how='outer', on='cust_id')"
   ]
  },
  {
   "cell_type": "code",
   "execution_count": null,
   "id": "650683ad-2409-40e4-99b4-a00552597879",
   "metadata": {},
   "outputs": [],
   "source": [
    "x.count()"
   ]
  },
  {
   "cell_type": "code",
   "execution_count": null,
   "id": "197562c8-7690-4209-8809-e1b91473801e",
   "metadata": {},
   "outputs": [],
   "source": [
    "removeWhitespace(x)"
   ]
  },
  {
   "cell_type": "code",
   "execution_count": null,
   "id": "70034d5f-02a5-430b-9d20-84ba129e25f9",
   "metadata": {},
   "outputs": [],
   "source": [
    "x[x['name_prefix']==''].count()"
   ]
  },
  {
   "cell_type": "code",
   "execution_count": null,
   "id": "938b1a37-e0ef-4145-a52d-e06b16162afb",
   "metadata": {},
   "outputs": [],
   "source": [
    "y = x['name_prefix']"
   ]
  },
  {
   "cell_type": "code",
   "execution_count": null,
   "id": "3b25c7b1-15e9-44de-aab4-81a44d6f4ea0",
   "metadata": {},
   "outputs": [],
   "source": [
    "len(y=='')"
   ]
  },
  {
   "cell_type": "code",
   "execution_count": null,
   "id": "c713da9a-749c-48fa-ab86-ae3d52b0baed",
   "metadata": {},
   "outputs": [],
   "source": [
    "y"
   ]
  },
  {
   "cell_type": "code",
   "execution_count": null,
   "id": "c3a911c3-aeb9-4b49-a42d-aa6f83481898",
   "metadata": {
    "jupyter": {
     "source_hidden": true
    },
    "tags": []
   },
   "outputs": [],
   "source": [
    "import numpy as np\n",
    "\n",
    "import matplotlib.pyplot as plt\n",
    "from matplotlib.patches import Circle, RegularPolygon\n",
    "from matplotlib.path import Path\n",
    "from matplotlib.projections.polar import PolarAxes\n",
    "from matplotlib.projections import register_projection\n",
    "from matplotlib.spines import Spine\n",
    "from matplotlib.transforms import Affine2D\n",
    "\n",
    "\n",
    "def radar_factory(num_vars, frame='circle'):\n",
    "    \"\"\"\n",
    "    Create a radar chart with `num_vars` axes.\n",
    "\n",
    "    This function creates a RadarAxes projection and registers it.\n",
    "\n",
    "    Parameters\n",
    "    ----------\n",
    "    num_vars : int\n",
    "        Number of variables for radar chart.\n",
    "    frame : {'circle', 'polygon'}\n",
    "        Shape of frame surrounding axes.\n",
    "\n",
    "    \"\"\"\n",
    "    # calculate evenly-spaced axis angles\n",
    "    theta = np.linspace(0, 2*np.pi, num_vars, endpoint=False)\n",
    "\n",
    "    class RadarAxes(PolarAxes):\n",
    "\n",
    "        name = 'radar'\n",
    "        # use 1 line segment to connect specified points\n",
    "        RESOLUTION = 1\n",
    "\n",
    "        def __init__(self, *args, **kwargs):\n",
    "            super().__init__(*args, **kwargs)\n",
    "            # rotate plot such that the first axis is at the top\n",
    "            self.set_theta_zero_location('N')\n",
    "\n",
    "        def fill(self, *args, closed=True, **kwargs):\n",
    "            \"\"\"Override fill so that line is closed by default\"\"\"\n",
    "            return super().fill(closed=closed, *args, **kwargs)\n",
    "\n",
    "        def plot(self, *args, **kwargs):\n",
    "            \"\"\"Override plot so that line is closed by default\"\"\"\n",
    "            lines = super().plot(*args, **kwargs)\n",
    "            for line in lines:\n",
    "                self._close_line(line)\n",
    "\n",
    "        def _close_line(self, line):\n",
    "            x, y = line.get_data()\n",
    "            # FIXME: markers at x[0], y[0] get doubled-up\n",
    "            if x[0] != x[-1]:\n",
    "                x = np.append(x, x[0])\n",
    "                y = np.append(y, y[0])\n",
    "                line.set_data(x, y)\n",
    "\n",
    "        def set_varlabels(self, labels):\n",
    "            self.set_thetagrids(np.degrees(theta), labels)\n",
    "\n",
    "        def _gen_axes_patch(self):\n",
    "            # The Axes patch must be centered at (0.5, 0.5) and of radius 0.5\n",
    "            # in axes coordinates.\n",
    "            if frame == 'circle':\n",
    "                return Circle((0.5, 0.5), 0.5)\n",
    "            elif frame == 'polygon':\n",
    "                return RegularPolygon((0.5, 0.5), num_vars,\n",
    "                                      radius=.5, edgecolor=\"k\")\n",
    "            else:\n",
    "                raise ValueError(\"Unknown value for 'frame': %s\" % frame)\n",
    "\n",
    "        def _gen_axes_spines(self):\n",
    "            if frame == 'circle':\n",
    "                return super()._gen_axes_spines()\n",
    "            elif frame == 'polygon':\n",
    "                # spine_type must be 'left'/'right'/'top'/'bottom'/'circle'.\n",
    "                spine = Spine(axes=self,\n",
    "                              spine_type='circle',\n",
    "                              path=Path.unit_regular_polygon(num_vars))\n",
    "                # unit_regular_polygon gives a polygon of radius 1 centered at\n",
    "                # (0, 0) but we want a polygon of radius 0.5 centered at (0.5,\n",
    "                # 0.5) in axes coordinates.\n",
    "                spine.set_transform(Affine2D().scale(.5).translate(.5, .5)\n",
    "                                    + self.transAxes)\n",
    "                return {'polar': spine}\n",
    "            else:\n",
    "                raise ValueError(\"Unknown value for 'frame': %s\" % frame)\n",
    "\n",
    "    register_projection(RadarAxes)\n",
    "    return theta\n",
    "\n",
    "\n",
    "def example_data():\n",
    "    # The following data is from the Denver Aerosol Sources and Health study.\n",
    "    # See doi:10.1016/j.atmosenv.2008.12.017\n",
    "    #\n",
    "    # The data are pollution source profile estimates for five modeled\n",
    "    # pollution sources (e.g., cars, wood-burning, etc) that emit 7-9 chemical\n",
    "    # species. The radar charts are experimented with here to see if we can\n",
    "    # nicely visualize how the modeled source profiles change across four\n",
    "    # scenarios:\n",
    "    #  1) No gas-phase species present, just seven particulate counts on\n",
    "    #     Sulfate\n",
    "    #     Nitrate\n",
    "    #     Elemental Carbon (EC)\n",
    "    #     Organic Carbon fraction 1 (OC)\n",
    "    #     Organic Carbon fraction 2 (OC2)\n",
    "    #     Organic Carbon fraction 3 (OC3)\n",
    "    #     Pyrolized Organic Carbon (OP)\n",
    "    #  2)Inclusion of gas-phase specie carbon monoxide (CO)\n",
    "    #  3)Inclusion of gas-phase specie ozone (O3).\n",
    "    #  4)Inclusion of both gas-phase species is present...\n",
    "    data = [\n",
    "        ['Sulfate', 'Nitrate', 'EC', 'OC1', 'OC2', 'OC3', 'OP', 'CO', 'O3'],\n",
    "        ('Basecase', [\n",
    "            [0.88, 0.01, 0.03, 0.03, 0.00, 0.06, 0.01, 0.00, 0.00],\n",
    "            [0.07, 0.95, 0.04, 0.05, 0.00, 0.02, 0.01, 0.00, 0.00],\n",
    "            [0.01, 0.02, 0.85, 0.19, 0.05, 0.10, 0.00, 0.00, 0.00],\n",
    "            [0.02, 0.01, 0.07, 0.01, 0.21, 0.12, 0.98, 0.00, 0.00],\n",
    "            [0.01, 0.01, 0.02, 0.71, 0.74, 0.70, 0.00, 0.00, 0.00]]),\n",
    "        ('With CO', [\n",
    "            [0.88, 0.02, 0.02, 0.02, 0.00, 0.05, 0.00, 0.05, 0.00],\n",
    "            [0.08, 0.94, 0.04, 0.02, 0.00, 0.01, 0.12, 0.04, 0.00],\n",
    "            [0.01, 0.01, 0.79, 0.10, 0.00, 0.05, 0.00, 0.31, 0.00],\n",
    "            [0.00, 0.02, 0.03, 0.38, 0.31, 0.31, 0.00, 0.59, 0.00],\n",
    "            [0.02, 0.02, 0.11, 0.47, 0.69, 0.58, 0.88, 0.00, 0.00]]),\n",
    "        ('With O3', [\n",
    "            [0.89, 0.01, 0.07, 0.00, 0.00, 0.05, 0.00, 0.00, 0.03],\n",
    "            [0.07, 0.95, 0.05, 0.04, 0.00, 0.02, 0.12, 0.00, 0.00],\n",
    "            [0.01, 0.02, 0.86, 0.27, 0.16, 0.19, 0.00, 0.00, 0.00],\n",
    "            [0.01, 0.03, 0.00, 0.32, 0.29, 0.27, 0.00, 0.00, 0.95],\n",
    "            [0.02, 0.00, 0.03, 0.37, 0.56, 0.47, 0.87, 0.00, 0.00]]),\n",
    "        ('CO & O3', [\n",
    "            [0.87, 0.01, 0.08, 0.00, 0.00, 0.04, 0.00, 0.00, 0.01],\n",
    "            [0.09, 0.95, 0.02, 0.03, 0.00, 0.01, 0.13, 0.06, 0.00],\n",
    "            [0.01, 0.02, 0.71, 0.24, 0.13, 0.16, 0.00, 0.50, 0.00],\n",
    "            [0.01, 0.03, 0.00, 0.28, 0.24, 0.23, 0.00, 0.44, 0.88],\n",
    "            [0.02, 0.00, 0.18, 0.45, 0.64, 0.55, 0.86, 0.00, 0.16]])\n",
    "    ]\n",
    "    return data\n",
    "\n",
    "\n",
    "if __name__ == '__main__':\n",
    "    N = 9 # **************************************** NUMBER OF SPOKES\n",
    "    theta = radar_factory(N, frame='polygon')\n",
    "\n",
    "    data = example_data() #******************************************** DATA\n",
    "    spoke_labels = data.pop(0)\n",
    "\n",
    "    fig, axs = plt.subplots(figsize=(9, 9), nrows=2, ncols=2,\n",
    "                            subplot_kw=dict(projection='radar'))\n",
    "    fig.subplots_adjust(wspace=0.25, hspace=0.20, top=0.85, bottom=0.05)\n",
    "\n",
    "    colors = ['b', 'r', 'g', 'm', 'y']\n",
    "    # Plot the four cases from the example data on separate axes\n",
    "    for ax, (title, case_data) in zip(axs.flat, data):\n",
    "        ax.set_rgrids([0.2, 0.4, 0.6, 0.8])\n",
    "        ax.set_title(title, weight='bold', size='medium', position=(0.5, 1.1),\n",
    "                     horizontalalignment='center', verticalalignment='center')\n",
    "        for d, color in zip(case_data, colors):\n",
    "            ax.plot(theta, d, color=color)\n",
    "            ax.fill(theta, d, facecolor=color, alpha=0.25)\n",
    "        ax.set_varlabels(spoke_labels)\n",
    "\n",
    "    # add legend relative to top-left plot\n",
    "    labels = ('Factor 1', 'Factor 2', 'Factor 3', 'Factor 4', 'Factor 5')\n",
    "    legend = axs[0, 0].legend(labels, loc=(0.9, .95),\n",
    "                              labelspacing=0.1, fontsize='small')\n",
    "\n",
    "    fig.text(0.5, 0.965, '5-Factor Solution Profiles Across Four Scenarios',\n",
    "             horizontalalignment='center', color='black', weight='bold',\n",
    "             size='large')\n",
    "\n",
    "    plt.show()"
   ]
  },
  {
   "cell_type": "code",
   "execution_count": null,
   "id": "5a018c3c-9042-45b2-bbfb-3345c0ed05d1",
   "metadata": {},
   "outputs": [],
   "source": []
  },
  {
   "cell_type": "code",
   "execution_count": null,
   "id": "532bf633-e61c-4fcf-955a-c7d9bbad62d2",
   "metadata": {},
   "outputs": [],
   "source": []
  }
 ],
 "metadata": {
  "kernelspec": {
   "display_name": "Python 3 (ipykernel)",
   "language": "python",
   "name": "python3"
  },
  "language_info": {
   "codemirror_mode": {
    "name": "ipython",
    "version": 3
   },
   "file_extension": ".py",
   "mimetype": "text/x-python",
   "name": "python",
   "nbconvert_exporter": "python",
   "pygments_lexer": "ipython3",
   "version": "3.9.7"
  }
 },
 "nbformat": 4,
 "nbformat_minor": 5
}
